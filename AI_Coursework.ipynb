{
  "nbformat": 4,
  "nbformat_minor": 0,
  "metadata": {
    "colab": {
      "provenance": [],
      "authorship_tag": "ABX9TyMtGPsmq+93b29iSiEBiVb9",
      "include_colab_link": true
    },
    "kernelspec": {
      "name": "python3",
      "display_name": "Python 3"
    },
    "language_info": {
      "name": "python"
    }
  },
  "cells": [
    {
      "cell_type": "markdown",
      "metadata": {
        "id": "view-in-github",
        "colab_type": "text"
      },
      "source": [
        "<a href=\"https://colab.research.google.com/github/ishneha1/AI_CourseWork/blob/main/AI_Coursework.ipynb\" target=\"_parent\"><img src=\"https://colab.research.google.com/assets/colab-badge.svg\" alt=\"Open In Colab\"/></a>"
      ]
    },
    {
      "cell_type": "markdown",
      "source": [
        "# **Importing Libraries**\n",
        "\n"
      ],
      "metadata": {
        "id": "VTEKWvzLHBmi"
      }
    },
    {
      "cell_type": "code",
      "execution_count": 1,
      "metadata": {
        "id": "kYGTj5heG3fY"
      },
      "outputs": [],
      "source": [
        "import pandas as pd\n",
        "import numpy as np\n",
        "import matplotlib.pyplot as plt\n",
        "import seaborn as sns\n",
        "from sklearn.model_selection import train_test_split\n",
        "from sklearn.tree import DecisionTreeClassifier, plot_tree\n",
        "from sklearn.metrics import (classification_report,\n",
        "                            confusion_matrix,\n",
        "                            accuracy_score)\n",
        "from sklearn.preprocessing import LabelEncoder"
      ]
    },
    {
      "cell_type": "markdown",
      "source": [
        "# **Loading Dataset and Understanding data**\n"
      ],
      "metadata": {
        "id": "aaJ_u4ZiIkhB"
      }
    },
    {
      "cell_type": "code",
      "source": [
        "data = pd.read_csv('/content/sample_data/Dhaka Obesity.csv')\n",
        "# Show first 5 rows to understand the data structure\n",
        "print(data.head())"
      ],
      "metadata": {
        "colab": {
          "base_uri": "https://localhost:8080/"
        },
        "id": "_gccy3ojIwkI",
        "outputId": "37736f03-f040-4993-cdb8-d3769219ab11"
      },
      "execution_count": 2,
      "outputs": [
        {
          "output_type": "stream",
          "name": "stdout",
          "text": [
            "   Gender  Age  Height (m)  Weight (kg) Family history of overweight  \\\n",
            "0    Male   29        1.65        101.0                          Yes   \n",
            "1  Female   25        1.65         53.0                           No   \n",
            "2    Male   23        1.70         70.0                           No   \n",
            "3    Male   22        1.68        112.0                          Yes   \n",
            "4    Male   19        1.75         67.0                           No   \n",
            "\n",
            "  High caloric food consumption Vegetable consumption frequency  \\\n",
            "0                           Yes                       Sometimes   \n",
            "1                            No                          Always   \n",
            "2                            No                          Always   \n",
            "3                           Yes                       Sometimes   \n",
            "4                           Yes                          Always   \n",
            "\n",
            "  Daily main meals frequency Between-meal food consumption frequency Smoking  \\\n",
            "0                      Three                              Frequently      No   \n",
            "1                      Three                                  Always      No   \n",
            "2                Between 1-2                               Sometimes     Yes   \n",
            "3                      Three                              Frequently      No   \n",
            "4                      Three                               Sometimes     Yes   \n",
            "\n",
            "   Alcohol intake Daily water intake Monitor calories Physical exercise  \\\n",
            "0  I do not drink  Between 1 and 2 L               No     I do not have   \n",
            "1  I do not drink  Between 1 and 2 L               No   Almost Everyday   \n",
            "2       Sometimes  Less than a liter               No     I do not have   \n",
            "3  I do not drink  Between 1 and 2 L               No     I do not have   \n",
            "4  I do not drink  Between 1 and 2 L               No       2 or 4 days   \n",
            "\n",
            "  Daily device usage duration Mode of transportation    Obesity level  \n",
            "0           More than 5 hours            Private Car  Obesity_Type_II  \n",
            "1           More than 5 hours  Public Transportation    Normal_Weight  \n",
            "2           More than 5 hours  Public Transportation    Normal_Weight  \n",
            "3           More than 5 hours  Public Transportation  Obesity_Type_II  \n",
            "4                   3-5 hours                   Bike    Normal_Weight  \n"
          ]
        }
      ]
    },
    {
      "cell_type": "markdown",
      "source": [
        "# **Data Cleaning**"
      ],
      "metadata": {
        "id": "xhwT4w0GKFw1"
      }
    },
    {
      "cell_type": "code",
      "source": [
        "# Check for missing values\n",
        "print(data.isnull().sum())\n",
        "# Remove duplicate rows if any\n",
        "initial_count = len(data)\n",
        "data.drop_duplicates(inplace=True)\n",
        "final_count = len(data)\n",
        "# Check for impossible values in numerical columns\n",
        "print(data.describe())"
      ],
      "metadata": {
        "colab": {
          "base_uri": "https://localhost:8080/"
        },
        "id": "K2A_UD2WKFcV",
        "outputId": "b00bb137-b6b8-4620-db3b-244086e58b96"
      },
      "execution_count": 4,
      "outputs": [
        {
          "output_type": "stream",
          "name": "stdout",
          "text": [
            "Gender                                     0\n",
            "Age                                        0\n",
            "Height (m)                                 0\n",
            "Weight (kg)                                0\n",
            "Family history of overweight               0\n",
            "High caloric food consumption              0\n",
            "Vegetable consumption frequency            0\n",
            "Daily main meals frequency                 0\n",
            "Between-meal food consumption frequency    0\n",
            "Smoking                                    0\n",
            "Alcohol intake                             0\n",
            "Daily water intake                         0\n",
            "Monitor calories                           0\n",
            "Physical exercise                          0\n",
            "Daily device usage duration                0\n",
            "Mode of transportation                     0\n",
            "Obesity level                              0\n",
            "dtype: int64\n",
            "               Age   Height (m)  Weight (kg)\n",
            "count  2157.000000  2157.000000  2157.000000\n",
            "mean     26.766806     1.627144    74.021604\n",
            "std       8.446704     0.101490    20.787374\n",
            "min      15.000000     1.220000    35.000000\n",
            "25%      22.000000     1.570000    56.000000\n",
            "50%      24.000000     1.630000    72.000000\n",
            "75%      28.000000     1.700000    89.000000\n",
            "max      75.000000     1.880000   150.000000\n"
          ]
        }
      ]
    },
    {
      "cell_type": "markdown",
      "source": [
        "# **Data Preparation**"
      ],
      "metadata": {
        "id": "vQV6JBe_Rbcq"
      }
    },
    {
      "cell_type": "code",
      "source": [
        "# Convert categorical text to numbers (label encoding)\n",
        "\n",
        "# Binary columns (direct 0/1 mapping)\n",
        "binary_cols = {\n",
        "    'Gender': {'Male': 1, 'Female': 0},\n",
        "    'Family history of overweight': {'Yes': 1, 'No': 0},\n",
        "    'High caloric food consumption': {'Yes': 1, 'No': 0},\n",
        "    'Smoking': {'Yes': 1, 'No': 0},\n",
        "    'Monitor calories': {'Yes': 1, 'No': 0}\n",
        "}\n",
        "\n",
        "# Ordinal columns (ordered categories)\n",
        "ordinal_cols = {\n",
        "    'Vegetable consumption frequency': {'Never': 0, 'Sometimes': 1, 'Always': 2},\n",
        "    'Daily main meals frequency': {'Between 1-2': 0, 'Three': 1, 'More than Three': 2},\n",
        "    'Between-meal food consumption frequency': {'No': 0, 'Sometimes': 1, 'Frequently': 2, 'Always': 3},\n",
        "    'Alcohol intake': {'I do not drink': 0, 'Sometimes': 1, 'Frequently': 2, 'Always': 3},\n",
        "    'Daily water intake': {'Less than a liter': 0, 'Between 1 and 2 L': 1, 'More than 2 L': 2},\n",
        "    'Physical exercise': {'I do not have': 0, '1 or 2 days': 1, '2 or 4 days': 2, '4 or 5 days': 3, 'Almost Everyday': 4},\n",
        "    'Daily device usage duration': {'0-2 hours': 0, '3-5 hours': 1, 'More than 5 hours': 2}\n",
        "}\n",
        "\n",
        "# Nominal columns\n",
        "nominal_cols = ['Mode of transportation']\n",
        "\n",
        "for col, mapping in binary_cols.items():\n",
        "    data[col] = data[col].replace(mapping)\n",
        "\n",
        "for col, mapping in ordinal_cols.items():\n",
        "    data[col] = data[col].replace(mapping)\n",
        "\n",
        "data = pd.get_dummies(data, columns=nominal_cols, drop_first=True)\n",
        "\n",
        "# Encode target variable\n",
        "obesity_mapping = {\n",
        "    'Insufficient_Weight': 0,\n",
        "    'Normal_Weight': 1,\n",
        "    'Overweight': 2,\n",
        "    'Obesity_Type_I': 3,\n",
        "    'Obesity_Type_II': 4,\n",
        "    'Obesity_Type_III': 5\n",
        "}\n",
        "data['Obesity level'] = data['Obesity level'].replace(obesity_mapping)"
      ],
      "metadata": {
        "colab": {
          "base_uri": "https://localhost:8080/"
        },
        "id": "HWM97j-LRiTN",
        "outputId": "5f04f879-ae3d-4941-ef62-5fbedb9c5d5a"
      },
      "execution_count": 5,
      "outputs": [
        {
          "output_type": "stream",
          "name": "stderr",
          "text": [
            "/tmp/ipython-input-5-79535660.py:27: FutureWarning: Downcasting behavior in `replace` is deprecated and will be removed in a future version. To retain the old behavior, explicitly call `result.infer_objects(copy=False)`. To opt-in to the future behavior, set `pd.set_option('future.no_silent_downcasting', True)`\n",
            "  data[col] = data[col].replace(mapping)\n",
            "/tmp/ipython-input-5-79535660.py:30: FutureWarning: Downcasting behavior in `replace` is deprecated and will be removed in a future version. To retain the old behavior, explicitly call `result.infer_objects(copy=False)`. To opt-in to the future behavior, set `pd.set_option('future.no_silent_downcasting', True)`\n",
            "  data[col] = data[col].replace(mapping)\n",
            "/tmp/ipython-input-5-79535660.py:43: FutureWarning: Downcasting behavior in `replace` is deprecated and will be removed in a future version. To retain the old behavior, explicitly call `result.infer_objects(copy=False)`. To opt-in to the future behavior, set `pd.set_option('future.no_silent_downcasting', True)`\n",
            "  data['Obesity level'] = data['Obesity level'].replace(obesity_mapping)\n"
          ]
        }
      ]
    }
  ]
}