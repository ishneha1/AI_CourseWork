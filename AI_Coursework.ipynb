{
  "nbformat": 4,
  "nbformat_minor": 0,
  "metadata": {
    "colab": {
      "provenance": [],
      "authorship_tag": "ABX9TyO3WonRSW7n06daM/GkhWR8",
      "include_colab_link": true
    },
    "kernelspec": {
      "name": "python3",
      "display_name": "Python 3"
    },
    "language_info": {
      "name": "python"
    }
  },
  "cells": [
    {
      "cell_type": "markdown",
      "metadata": {
        "id": "view-in-github",
        "colab_type": "text"
      },
      "source": [
        "<a href=\"https://colab.research.google.com/github/ishneha1/AI_CourseWork/blob/main/AI_Coursework.ipynb\" target=\"_parent\"><img src=\"https://colab.research.google.com/assets/colab-badge.svg\" alt=\"Open In Colab\"/></a>"
      ]
    },
    {
      "cell_type": "markdown",
      "source": [
        "# **Importing Libraries**\n",
        "\n"
      ],
      "metadata": {
        "id": "VTEKWvzLHBmi"
      }
    },
    {
      "cell_type": "code",
      "execution_count": 1,
      "metadata": {
        "id": "kYGTj5heG3fY"
      },
      "outputs": [],
      "source": [
        "import pandas as pd\n",
        "import numpy as np\n",
        "import matplotlib.pyplot as plt\n",
        "import seaborn as sns\n",
        "from sklearn.model_selection import train_test_split\n",
        "from sklearn.tree import DecisionTreeClassifier, plot_tree\n",
        "from sklearn.metrics import (classification_report,\n",
        "                            confusion_matrix,\n",
        "                            accuracy_score)\n",
        "from sklearn.preprocessing import LabelEncoder"
      ]
    },
    {
      "cell_type": "markdown",
      "source": [
        "# **Loading Dataset and Understanding data**\n"
      ],
      "metadata": {
        "id": "aaJ_u4ZiIkhB"
      }
    },
    {
      "cell_type": "code",
      "source": [
        "data = pd.read_csv('/content/sample_data/Dhaka Obesity.csv')\n",
        "# Show first 5 rows to understand the data structure\n",
        "print(data.head())"
      ],
      "metadata": {
        "colab": {
          "base_uri": "https://localhost:8080/"
        },
        "id": "_gccy3ojIwkI",
        "outputId": "37736f03-f040-4993-cdb8-d3769219ab11"
      },
      "execution_count": 2,
      "outputs": [
        {
          "output_type": "stream",
          "name": "stdout",
          "text": [
            "   Gender  Age  Height (m)  Weight (kg) Family history of overweight  \\\n",
            "0    Male   29        1.65        101.0                          Yes   \n",
            "1  Female   25        1.65         53.0                           No   \n",
            "2    Male   23        1.70         70.0                           No   \n",
            "3    Male   22        1.68        112.0                          Yes   \n",
            "4    Male   19        1.75         67.0                           No   \n",
            "\n",
            "  High caloric food consumption Vegetable consumption frequency  \\\n",
            "0                           Yes                       Sometimes   \n",
            "1                            No                          Always   \n",
            "2                            No                          Always   \n",
            "3                           Yes                       Sometimes   \n",
            "4                           Yes                          Always   \n",
            "\n",
            "  Daily main meals frequency Between-meal food consumption frequency Smoking  \\\n",
            "0                      Three                              Frequently      No   \n",
            "1                      Three                                  Always      No   \n",
            "2                Between 1-2                               Sometimes     Yes   \n",
            "3                      Three                              Frequently      No   \n",
            "4                      Three                               Sometimes     Yes   \n",
            "\n",
            "   Alcohol intake Daily water intake Monitor calories Physical exercise  \\\n",
            "0  I do not drink  Between 1 and 2 L               No     I do not have   \n",
            "1  I do not drink  Between 1 and 2 L               No   Almost Everyday   \n",
            "2       Sometimes  Less than a liter               No     I do not have   \n",
            "3  I do not drink  Between 1 and 2 L               No     I do not have   \n",
            "4  I do not drink  Between 1 and 2 L               No       2 or 4 days   \n",
            "\n",
            "  Daily device usage duration Mode of transportation    Obesity level  \n",
            "0           More than 5 hours            Private Car  Obesity_Type_II  \n",
            "1           More than 5 hours  Public Transportation    Normal_Weight  \n",
            "2           More than 5 hours  Public Transportation    Normal_Weight  \n",
            "3           More than 5 hours  Public Transportation  Obesity_Type_II  \n",
            "4                   3-5 hours                   Bike    Normal_Weight  \n"
          ]
        }
      ]
    }
  ]
}